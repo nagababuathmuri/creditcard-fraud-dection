{
  "nbformat": 4,
  "nbformat_minor": 0,
  "metadata": {
    "colab": {
      "name": "creditcard.ipynb",
      "provenance": []
    },
    "kernelspec": {
      "name": "python3",
      "display_name": "Python 3"
    },
    "language_info": {
      "name": "python"
    }
  },
  "cells": [
    {
      "cell_type": "code",
      "metadata": {
        "id": "zbjoBjecEoel"
      },
      "source": [
        "import numpy as np\n",
        "import pandas as pd\n",
        "from sklearn.model_selection import train_test_split\n",
        "from sklearn.linear_model import LogisticRegression\n",
        "from sklearn.metrics import accuracy_score"
      ],
      "execution_count": 1,
      "outputs": []
    },
    {
      "cell_type": "code",
      "metadata": {
        "id": "iB_FLq-SI264"
      },
      "source": [
        "# loading the dataset to a Pandas DataFrame\n",
        "credit_card_data = pd.read_csv('/content/creditcard.csv')"
      ],
      "execution_count": 3,
      "outputs": []
    },
    {
      "cell_type": "code",
      "metadata": {
        "colab": {
          "base_uri": "https://localhost:8080/",
          "height": 223
        },
        "id": "ISQ2-QaZJPc8",
        "outputId": "78ffe682-c39f-433d-fc1e-ac7bee66b36a"
      },
      "source": [
        "# first 5 rows of the dataset\n",
        "credit_card_data.head()"
      ],
      "execution_count": 4,
      "outputs": [
        {
          "output_type": "execute_result",
          "data": {
            "text/html": [
              "<div>\n",
              "<style scoped>\n",
              "    .dataframe tbody tr th:only-of-type {\n",
              "        vertical-align: middle;\n",
              "    }\n",
              "\n",
              "    .dataframe tbody tr th {\n",
              "        vertical-align: top;\n",
              "    }\n",
              "\n",
              "    .dataframe thead th {\n",
              "        text-align: right;\n",
              "    }\n",
              "</style>\n",
              "<table border=\"1\" class=\"dataframe\">\n",
              "  <thead>\n",
              "    <tr style=\"text-align: right;\">\n",
              "      <th></th>\n",
              "      <th>Time</th>\n",
              "      <th>V1</th>\n",
              "      <th>V2</th>\n",
              "      <th>V3</th>\n",
              "      <th>V4</th>\n",
              "      <th>V5</th>\n",
              "      <th>V6</th>\n",
              "      <th>V7</th>\n",
              "      <th>V8</th>\n",
              "      <th>V9</th>\n",
              "      <th>V10</th>\n",
              "      <th>V11</th>\n",
              "      <th>V12</th>\n",
              "      <th>V13</th>\n",
              "      <th>V14</th>\n",
              "      <th>V15</th>\n",
              "      <th>V16</th>\n",
              "      <th>V17</th>\n",
              "      <th>V18</th>\n",
              "      <th>V19</th>\n",
              "      <th>V20</th>\n",
              "      <th>V21</th>\n",
              "      <th>V22</th>\n",
              "      <th>V23</th>\n",
              "      <th>V24</th>\n",
              "      <th>V25</th>\n",
              "      <th>V26</th>\n",
              "      <th>V27</th>\n",
              "      <th>V28</th>\n",
              "      <th>Amount</th>\n",
              "      <th>Class</th>\n",
              "    </tr>\n",
              "  </thead>\n",
              "  <tbody>\n",
              "    <tr>\n",
              "      <th>0</th>\n",
              "      <td>0</td>\n",
              "      <td>-1.359807</td>\n",
              "      <td>-0.072781</td>\n",
              "      <td>2.536347</td>\n",
              "      <td>1.378155</td>\n",
              "      <td>-0.338321</td>\n",
              "      <td>0.462388</td>\n",
              "      <td>0.239599</td>\n",
              "      <td>0.098698</td>\n",
              "      <td>0.363787</td>\n",
              "      <td>0.090794</td>\n",
              "      <td>-0.551600</td>\n",
              "      <td>-0.617801</td>\n",
              "      <td>-0.991390</td>\n",
              "      <td>-0.311169</td>\n",
              "      <td>1.468177</td>\n",
              "      <td>-0.470401</td>\n",
              "      <td>0.207971</td>\n",
              "      <td>0.025791</td>\n",
              "      <td>0.403993</td>\n",
              "      <td>0.251412</td>\n",
              "      <td>-0.018307</td>\n",
              "      <td>0.277838</td>\n",
              "      <td>-0.110474</td>\n",
              "      <td>0.066928</td>\n",
              "      <td>0.128539</td>\n",
              "      <td>-0.189115</td>\n",
              "      <td>0.133558</td>\n",
              "      <td>-0.021053</td>\n",
              "      <td>149.62</td>\n",
              "      <td>0.0</td>\n",
              "    </tr>\n",
              "    <tr>\n",
              "      <th>1</th>\n",
              "      <td>0</td>\n",
              "      <td>1.191857</td>\n",
              "      <td>0.266151</td>\n",
              "      <td>0.166480</td>\n",
              "      <td>0.448154</td>\n",
              "      <td>0.060018</td>\n",
              "      <td>-0.082361</td>\n",
              "      <td>-0.078803</td>\n",
              "      <td>0.085102</td>\n",
              "      <td>-0.255425</td>\n",
              "      <td>-0.166974</td>\n",
              "      <td>1.612727</td>\n",
              "      <td>1.065235</td>\n",
              "      <td>0.489095</td>\n",
              "      <td>-0.143772</td>\n",
              "      <td>0.635558</td>\n",
              "      <td>0.463917</td>\n",
              "      <td>-0.114805</td>\n",
              "      <td>-0.183361</td>\n",
              "      <td>-0.145783</td>\n",
              "      <td>-0.069083</td>\n",
              "      <td>-0.225775</td>\n",
              "      <td>-0.638672</td>\n",
              "      <td>0.101288</td>\n",
              "      <td>-0.339846</td>\n",
              "      <td>0.167170</td>\n",
              "      <td>0.125895</td>\n",
              "      <td>-0.008983</td>\n",
              "      <td>0.014724</td>\n",
              "      <td>2.69</td>\n",
              "      <td>0.0</td>\n",
              "    </tr>\n",
              "    <tr>\n",
              "      <th>2</th>\n",
              "      <td>1</td>\n",
              "      <td>-1.358354</td>\n",
              "      <td>-1.340163</td>\n",
              "      <td>1.773209</td>\n",
              "      <td>0.379780</td>\n",
              "      <td>-0.503198</td>\n",
              "      <td>1.800499</td>\n",
              "      <td>0.791461</td>\n",
              "      <td>0.247676</td>\n",
              "      <td>-1.514654</td>\n",
              "      <td>0.207643</td>\n",
              "      <td>0.624501</td>\n",
              "      <td>0.066084</td>\n",
              "      <td>0.717293</td>\n",
              "      <td>-0.165946</td>\n",
              "      <td>2.345865</td>\n",
              "      <td>-2.890083</td>\n",
              "      <td>1.109969</td>\n",
              "      <td>-0.121359</td>\n",
              "      <td>-2.261857</td>\n",
              "      <td>0.524980</td>\n",
              "      <td>0.247998</td>\n",
              "      <td>0.771679</td>\n",
              "      <td>0.909412</td>\n",
              "      <td>-0.689281</td>\n",
              "      <td>-0.327642</td>\n",
              "      <td>-0.139097</td>\n",
              "      <td>-0.055353</td>\n",
              "      <td>-0.059752</td>\n",
              "      <td>378.66</td>\n",
              "      <td>0.0</td>\n",
              "    </tr>\n",
              "    <tr>\n",
              "      <th>3</th>\n",
              "      <td>1</td>\n",
              "      <td>-0.966272</td>\n",
              "      <td>-0.185226</td>\n",
              "      <td>1.792993</td>\n",
              "      <td>-0.863291</td>\n",
              "      <td>-0.010309</td>\n",
              "      <td>1.247203</td>\n",
              "      <td>0.237609</td>\n",
              "      <td>0.377436</td>\n",
              "      <td>-1.387024</td>\n",
              "      <td>-0.054952</td>\n",
              "      <td>-0.226487</td>\n",
              "      <td>0.178228</td>\n",
              "      <td>0.507757</td>\n",
              "      <td>-0.287924</td>\n",
              "      <td>-0.631418</td>\n",
              "      <td>-1.059647</td>\n",
              "      <td>-0.684093</td>\n",
              "      <td>1.965775</td>\n",
              "      <td>-1.232622</td>\n",
              "      <td>-0.208038</td>\n",
              "      <td>-0.108300</td>\n",
              "      <td>0.005274</td>\n",
              "      <td>-0.190321</td>\n",
              "      <td>-1.175575</td>\n",
              "      <td>0.647376</td>\n",
              "      <td>-0.221929</td>\n",
              "      <td>0.062723</td>\n",
              "      <td>0.061458</td>\n",
              "      <td>123.50</td>\n",
              "      <td>0.0</td>\n",
              "    </tr>\n",
              "    <tr>\n",
              "      <th>4</th>\n",
              "      <td>2</td>\n",
              "      <td>-1.158233</td>\n",
              "      <td>0.877737</td>\n",
              "      <td>1.548718</td>\n",
              "      <td>0.403034</td>\n",
              "      <td>-0.407193</td>\n",
              "      <td>0.095921</td>\n",
              "      <td>0.592941</td>\n",
              "      <td>-0.270533</td>\n",
              "      <td>0.817739</td>\n",
              "      <td>0.753074</td>\n",
              "      <td>-0.822843</td>\n",
              "      <td>0.538196</td>\n",
              "      <td>1.345852</td>\n",
              "      <td>-1.119670</td>\n",
              "      <td>0.175121</td>\n",
              "      <td>-0.451449</td>\n",
              "      <td>-0.237033</td>\n",
              "      <td>-0.038195</td>\n",
              "      <td>0.803487</td>\n",
              "      <td>0.408542</td>\n",
              "      <td>-0.009431</td>\n",
              "      <td>0.798278</td>\n",
              "      <td>-0.137458</td>\n",
              "      <td>0.141267</td>\n",
              "      <td>-0.206010</td>\n",
              "      <td>0.502292</td>\n",
              "      <td>0.219422</td>\n",
              "      <td>0.215153</td>\n",
              "      <td>69.99</td>\n",
              "      <td>0.0</td>\n",
              "    </tr>\n",
              "  </tbody>\n",
              "</table>\n",
              "</div>"
            ],
            "text/plain": [
              "   Time        V1        V2        V3  ...       V27       V28  Amount  Class\n",
              "0     0 -1.359807 -0.072781  2.536347  ...  0.133558 -0.021053  149.62    0.0\n",
              "1     0  1.191857  0.266151  0.166480  ... -0.008983  0.014724    2.69    0.0\n",
              "2     1 -1.358354 -1.340163  1.773209  ... -0.055353 -0.059752  378.66    0.0\n",
              "3     1 -0.966272 -0.185226  1.792993  ...  0.062723  0.061458  123.50    0.0\n",
              "4     2 -1.158233  0.877737  1.548718  ...  0.219422  0.215153   69.99    0.0\n",
              "\n",
              "[5 rows x 31 columns]"
            ]
          },
          "metadata": {},
          "execution_count": 4
        }
      ]
    },
    {
      "cell_type": "code",
      "metadata": {
        "colab": {
          "base_uri": "https://localhost:8080/",
          "height": 223
        },
        "id": "lJpShQ1yJPqY",
        "outputId": "9904dd32-1b2a-441d-a548-e7db5ade2301"
      },
      "source": [
        "credit_card_data.tail()"
      ],
      "execution_count": 5,
      "outputs": [
        {
          "output_type": "execute_result",
          "data": {
            "text/html": [
              "<div>\n",
              "<style scoped>\n",
              "    .dataframe tbody tr th:only-of-type {\n",
              "        vertical-align: middle;\n",
              "    }\n",
              "\n",
              "    .dataframe tbody tr th {\n",
              "        vertical-align: top;\n",
              "    }\n",
              "\n",
              "    .dataframe thead th {\n",
              "        text-align: right;\n",
              "    }\n",
              "</style>\n",
              "<table border=\"1\" class=\"dataframe\">\n",
              "  <thead>\n",
              "    <tr style=\"text-align: right;\">\n",
              "      <th></th>\n",
              "      <th>Time</th>\n",
              "      <th>V1</th>\n",
              "      <th>V2</th>\n",
              "      <th>V3</th>\n",
              "      <th>V4</th>\n",
              "      <th>V5</th>\n",
              "      <th>V6</th>\n",
              "      <th>V7</th>\n",
              "      <th>V8</th>\n",
              "      <th>V9</th>\n",
              "      <th>V10</th>\n",
              "      <th>V11</th>\n",
              "      <th>V12</th>\n",
              "      <th>V13</th>\n",
              "      <th>V14</th>\n",
              "      <th>V15</th>\n",
              "      <th>V16</th>\n",
              "      <th>V17</th>\n",
              "      <th>V18</th>\n",
              "      <th>V19</th>\n",
              "      <th>V20</th>\n",
              "      <th>V21</th>\n",
              "      <th>V22</th>\n",
              "      <th>V23</th>\n",
              "      <th>V24</th>\n",
              "      <th>V25</th>\n",
              "      <th>V26</th>\n",
              "      <th>V27</th>\n",
              "      <th>V28</th>\n",
              "      <th>Amount</th>\n",
              "      <th>Class</th>\n",
              "    </tr>\n",
              "  </thead>\n",
              "  <tbody>\n",
              "    <tr>\n",
              "      <th>17913</th>\n",
              "      <td>29027</td>\n",
              "      <td>-0.422159</td>\n",
              "      <td>0.231118</td>\n",
              "      <td>1.666711</td>\n",
              "      <td>0.451976</td>\n",
              "      <td>-0.203598</td>\n",
              "      <td>0.097244</td>\n",
              "      <td>-0.039666</td>\n",
              "      <td>0.354218</td>\n",
              "      <td>0.062463</td>\n",
              "      <td>-0.267672</td>\n",
              "      <td>0.909700</td>\n",
              "      <td>-0.078854</td>\n",
              "      <td>-2.186030</td>\n",
              "      <td>0.421409</td>\n",
              "      <td>-0.291018</td>\n",
              "      <td>-0.948596</td>\n",
              "      <td>0.715232</td>\n",
              "      <td>-0.080037</td>\n",
              "      <td>1.303620</td>\n",
              "      <td>-0.035462</td>\n",
              "      <td>0.110909</td>\n",
              "      <td>0.435121</td>\n",
              "      <td>-0.056658</td>\n",
              "      <td>0.265867</td>\n",
              "      <td>-0.548204</td>\n",
              "      <td>0.734013</td>\n",
              "      <td>0.117023</td>\n",
              "      <td>0.130972</td>\n",
              "      <td>9.00</td>\n",
              "      <td>0.0</td>\n",
              "    </tr>\n",
              "    <tr>\n",
              "      <th>17914</th>\n",
              "      <td>29030</td>\n",
              "      <td>1.177387</td>\n",
              "      <td>-0.215585</td>\n",
              "      <td>0.202972</td>\n",
              "      <td>0.215323</td>\n",
              "      <td>-0.029312</td>\n",
              "      <td>0.601788</td>\n",
              "      <td>-0.297021</td>\n",
              "      <td>0.188082</td>\n",
              "      <td>0.436370</td>\n",
              "      <td>-0.199326</td>\n",
              "      <td>0.515916</td>\n",
              "      <td>1.246514</td>\n",
              "      <td>0.457754</td>\n",
              "      <td>-0.118306</td>\n",
              "      <td>-0.778808</td>\n",
              "      <td>-0.268287</td>\n",
              "      <td>-0.163576</td>\n",
              "      <td>-0.353358</td>\n",
              "      <td>0.553504</td>\n",
              "      <td>-0.035901</td>\n",
              "      <td>-0.055842</td>\n",
              "      <td>0.075903</td>\n",
              "      <td>-0.187120</td>\n",
              "      <td>-0.717798</td>\n",
              "      <td>0.555294</td>\n",
              "      <td>0.731531</td>\n",
              "      <td>-0.022112</td>\n",
              "      <td>-0.010929</td>\n",
              "      <td>25.00</td>\n",
              "      <td>0.0</td>\n",
              "    </tr>\n",
              "    <tr>\n",
              "      <th>17915</th>\n",
              "      <td>29030</td>\n",
              "      <td>-0.553746</td>\n",
              "      <td>0.880858</td>\n",
              "      <td>1.644821</td>\n",
              "      <td>-0.132657</td>\n",
              "      <td>0.120940</td>\n",
              "      <td>-0.267411</td>\n",
              "      <td>0.466892</td>\n",
              "      <td>0.222443</td>\n",
              "      <td>-0.639624</td>\n",
              "      <td>-0.174843</td>\n",
              "      <td>1.671591</td>\n",
              "      <td>0.700839</td>\n",
              "      <td>-0.287896</td>\n",
              "      <td>0.417781</td>\n",
              "      <td>0.406584</td>\n",
              "      <td>0.049476</td>\n",
              "      <td>-0.279782</td>\n",
              "      <td>-0.349309</td>\n",
              "      <td>-0.129659</td>\n",
              "      <td>0.070172</td>\n",
              "      <td>-0.133339</td>\n",
              "      <td>-0.348662</td>\n",
              "      <td>0.029947</td>\n",
              "      <td>0.199962</td>\n",
              "      <td>-0.328384</td>\n",
              "      <td>0.071511</td>\n",
              "      <td>0.275487</td>\n",
              "      <td>0.110195</td>\n",
              "      <td>0.89</td>\n",
              "      <td>0.0</td>\n",
              "    </tr>\n",
              "    <tr>\n",
              "      <th>17916</th>\n",
              "      <td>29030</td>\n",
              "      <td>-2.844632</td>\n",
              "      <td>3.717960</td>\n",
              "      <td>-7.165428</td>\n",
              "      <td>4.120419</td>\n",
              "      <td>-2.991039</td>\n",
              "      <td>-2.942326</td>\n",
              "      <td>-4.925187</td>\n",
              "      <td>2.204337</td>\n",
              "      <td>-2.663613</td>\n",
              "      <td>-6.888367</td>\n",
              "      <td>4.027447</td>\n",
              "      <td>-8.030026</td>\n",
              "      <td>-1.340344</td>\n",
              "      <td>-9.756963</td>\n",
              "      <td>1.055533</td>\n",
              "      <td>-5.381310</td>\n",
              "      <td>-8.745070</td>\n",
              "      <td>-2.733419</td>\n",
              "      <td>0.983641</td>\n",
              "      <td>0.800709</td>\n",
              "      <td>0.894495</td>\n",
              "      <td>-0.340246</td>\n",
              "      <td>0.012222</td>\n",
              "      <td>-0.059679</td>\n",
              "      <td>-0.104338</td>\n",
              "      <td>-0.295884</td>\n",
              "      <td>1.326228</td>\n",
              "      <td>0.322688</td>\n",
              "      <td>89.99</td>\n",
              "      <td>0.0</td>\n",
              "    </tr>\n",
              "    <tr>\n",
              "      <th>17917</th>\n",
              "      <td>29031</td>\n",
              "      <td>1.050204</td>\n",
              "      <td>0.078269</td>\n",
              "      <td>0.484733</td>\n",
              "      <td>1.349623</td>\n",
              "      <td>NaN</td>\n",
              "      <td>NaN</td>\n",
              "      <td>NaN</td>\n",
              "      <td>NaN</td>\n",
              "      <td>NaN</td>\n",
              "      <td>NaN</td>\n",
              "      <td>NaN</td>\n",
              "      <td>NaN</td>\n",
              "      <td>NaN</td>\n",
              "      <td>NaN</td>\n",
              "      <td>NaN</td>\n",
              "      <td>NaN</td>\n",
              "      <td>NaN</td>\n",
              "      <td>NaN</td>\n",
              "      <td>NaN</td>\n",
              "      <td>NaN</td>\n",
              "      <td>NaN</td>\n",
              "      <td>NaN</td>\n",
              "      <td>NaN</td>\n",
              "      <td>NaN</td>\n",
              "      <td>NaN</td>\n",
              "      <td>NaN</td>\n",
              "      <td>NaN</td>\n",
              "      <td>NaN</td>\n",
              "      <td>NaN</td>\n",
              "      <td>NaN</td>\n",
              "    </tr>\n",
              "  </tbody>\n",
              "</table>\n",
              "</div>"
            ],
            "text/plain": [
              "        Time        V1        V2        V3  ...       V27       V28  Amount  Class\n",
              "17913  29027 -0.422159  0.231118  1.666711  ...  0.117023  0.130972    9.00    0.0\n",
              "17914  29030  1.177387 -0.215585  0.202972  ... -0.022112 -0.010929   25.00    0.0\n",
              "17915  29030 -0.553746  0.880858  1.644821  ...  0.275487  0.110195    0.89    0.0\n",
              "17916  29030 -2.844632  3.717960 -7.165428  ...  1.326228  0.322688   89.99    0.0\n",
              "17917  29031  1.050204  0.078269  0.484733  ...       NaN       NaN     NaN    NaN\n",
              "\n",
              "[5 rows x 31 columns]"
            ]
          },
          "metadata": {},
          "execution_count": 5
        }
      ]
    },
    {
      "cell_type": "code",
      "metadata": {
        "colab": {
          "base_uri": "https://localhost:8080/"
        },
        "id": "_qBAdW6YJPvQ",
        "outputId": "e8adf6a4-9013-485e-d9fa-a4619869f619"
      },
      "source": [
        "# dataset informations\n",
        "credit_card_data.info()"
      ],
      "execution_count": 6,
      "outputs": [
        {
          "output_type": "stream",
          "name": "stdout",
          "text": [
            "<class 'pandas.core.frame.DataFrame'>\n",
            "RangeIndex: 17918 entries, 0 to 17917\n",
            "Data columns (total 31 columns):\n",
            " #   Column  Non-Null Count  Dtype  \n",
            "---  ------  --------------  -----  \n",
            " 0   Time    17918 non-null  int64  \n",
            " 1   V1      17918 non-null  float64\n",
            " 2   V2      17918 non-null  float64\n",
            " 3   V3      17918 non-null  float64\n",
            " 4   V4      17918 non-null  float64\n",
            " 5   V5      17917 non-null  float64\n",
            " 6   V6      17917 non-null  float64\n",
            " 7   V7      17917 non-null  float64\n",
            " 8   V8      17917 non-null  float64\n",
            " 9   V9      17917 non-null  float64\n",
            " 10  V10     17917 non-null  float64\n",
            " 11  V11     17917 non-null  float64\n",
            " 12  V12     17917 non-null  float64\n",
            " 13  V13     17917 non-null  float64\n",
            " 14  V14     17917 non-null  float64\n",
            " 15  V15     17917 non-null  float64\n",
            " 16  V16     17917 non-null  float64\n",
            " 17  V17     17917 non-null  float64\n",
            " 18  V18     17917 non-null  float64\n",
            " 19  V19     17917 non-null  float64\n",
            " 20  V20     17917 non-null  float64\n",
            " 21  V21     17917 non-null  float64\n",
            " 22  V22     17917 non-null  float64\n",
            " 23  V23     17917 non-null  float64\n",
            " 24  V24     17917 non-null  float64\n",
            " 25  V25     17917 non-null  float64\n",
            " 26  V26     17917 non-null  float64\n",
            " 27  V27     17917 non-null  float64\n",
            " 28  V28     17917 non-null  float64\n",
            " 29  Amount  17917 non-null  float64\n",
            " 30  Class   17917 non-null  float64\n",
            "dtypes: float64(30), int64(1)\n",
            "memory usage: 4.2 MB\n"
          ]
        }
      ]
    },
    {
      "cell_type": "code",
      "metadata": {
        "colab": {
          "base_uri": "https://localhost:8080/"
        },
        "id": "0181xABvJPzg",
        "outputId": "2e529c28-792e-4b0f-b1ba-e8032465a40e"
      },
      "source": [
        "# checking the number of missing values in each column\n",
        "credit_card_data.isnull().sum()"
      ],
      "execution_count": 7,
      "outputs": [
        {
          "output_type": "execute_result",
          "data": {
            "text/plain": [
              "Time      0\n",
              "V1        0\n",
              "V2        0\n",
              "V3        0\n",
              "V4        0\n",
              "V5        1\n",
              "V6        1\n",
              "V7        1\n",
              "V8        1\n",
              "V9        1\n",
              "V10       1\n",
              "V11       1\n",
              "V12       1\n",
              "V13       1\n",
              "V14       1\n",
              "V15       1\n",
              "V16       1\n",
              "V17       1\n",
              "V18       1\n",
              "V19       1\n",
              "V20       1\n",
              "V21       1\n",
              "V22       1\n",
              "V23       1\n",
              "V24       1\n",
              "V25       1\n",
              "V26       1\n",
              "V27       1\n",
              "V28       1\n",
              "Amount    1\n",
              "Class     1\n",
              "dtype: int64"
            ]
          },
          "metadata": {},
          "execution_count": 7
        }
      ]
    },
    {
      "cell_type": "code",
      "metadata": {
        "colab": {
          "base_uri": "https://localhost:8080/"
        },
        "id": "ysthrxNYJ0Ia",
        "outputId": "2fbcce01-b30f-4173-c663-a9e0f4ff4f67"
      },
      "source": [
        "# distribution of legit transactions & fraudulent transactions\n",
        "credit_card_data['Class'].value_counts()"
      ],
      "execution_count": 8,
      "outputs": [
        {
          "output_type": "execute_result",
          "data": {
            "text/plain": [
              "0.0    17836\n",
              "1.0       81\n",
              "Name: Class, dtype: int64"
            ]
          },
          "metadata": {},
          "execution_count": 8
        }
      ]
    },
    {
      "cell_type": "code",
      "metadata": {
        "id": "d5AGWZfbJ0Sm"
      },
      "source": [
        ""
      ],
      "execution_count": null,
      "outputs": []
    },
    {
      "cell_type": "markdown",
      "metadata": {
        "id": "55ePPMukKGLC"
      },
      "source": [
        "This Dataset is highly unblanced"
      ]
    },
    {
      "cell_type": "code",
      "metadata": {
        "id": "8w0pR9P-J0Xa"
      },
      "source": [
        ""
      ],
      "execution_count": null,
      "outputs": []
    },
    {
      "cell_type": "markdown",
      "metadata": {
        "id": "6fmCIG_1KN6_"
      },
      "source": [
        "0 --> Normal Transaction\n",
        "\n",
        "1 --> fraudulent transaction\n",
        "\n"
      ]
    },
    {
      "cell_type": "code",
      "metadata": {
        "id": "3Lp_EEsEKVrP"
      },
      "source": [
        "# separating the data for analysis\n",
        "legit = credit_card_data[credit_card_data.Class == 0]\n",
        "fraud = credit_card_data[credit_card_data.Class == 1]"
      ],
      "execution_count": 9,
      "outputs": []
    },
    {
      "cell_type": "code",
      "metadata": {
        "colab": {
          "base_uri": "https://localhost:8080/"
        },
        "id": "xu0AfYNoKV8w",
        "outputId": "541cbdc4-4810-4c45-ab9e-935f5b1d0bea"
      },
      "source": [
        "print(legit.shape)\n",
        "print(fraud.shape)"
      ],
      "execution_count": 10,
      "outputs": [
        {
          "output_type": "stream",
          "name": "stdout",
          "text": [
            "(17836, 31)\n",
            "(81, 31)\n"
          ]
        }
      ]
    },
    {
      "cell_type": "code",
      "metadata": {
        "colab": {
          "base_uri": "https://localhost:8080/"
        },
        "id": "-sPDDptVKWIv",
        "outputId": "e256367a-69aa-4d44-8b2d-207fcbbfcd2c"
      },
      "source": [
        "fraud.Amount.describe()"
      ],
      "execution_count": 11,
      "outputs": [
        {
          "output_type": "execute_result",
          "data": {
            "text/plain": [
              "count      81.000000\n",
              "mean       98.105926\n",
              "std       267.464067\n",
              "min         0.000000\n",
              "25%         1.000000\n",
              "50%         1.000000\n",
              "75%        99.990000\n",
              "max      1809.680000\n",
              "Name: Amount, dtype: float64"
            ]
          },
          "metadata": {},
          "execution_count": 11
        }
      ]
    },
    {
      "cell_type": "code",
      "metadata": {
        "colab": {
          "base_uri": "https://localhost:8080/"
        },
        "id": "XXE4CF2vKWPf",
        "outputId": "a56e9b06-f294-4073-d0c1-693868c32296"
      },
      "source": [
        "# statistical measures of the data\n",
        "legit.Amount.describe()"
      ],
      "execution_count": 12,
      "outputs": [
        {
          "output_type": "execute_result",
          "data": {
            "text/plain": [
              "count    17836.000000\n",
              "mean        67.365025\n",
              "std        188.754429\n",
              "min          0.000000\n",
              "25%          5.490000\n",
              "50%         15.950000\n",
              "75%         56.232500\n",
              "max       7712.430000\n",
              "Name: Amount, dtype: float64"
            ]
          },
          "metadata": {},
          "execution_count": 12
        }
      ]
    },
    {
      "cell_type": "code",
      "metadata": {
        "colab": {
          "base_uri": "https://localhost:8080/",
          "height": 162
        },
        "id": "G_8ySHqGK5SB",
        "outputId": "e4de755f-bcb5-4975-8fe7-f423638f48e8"
      },
      "source": [
        "# compare the values for both transactions\n",
        "credit_card_data.groupby('Class').mean()"
      ],
      "execution_count": 13,
      "outputs": [
        {
          "output_type": "execute_result",
          "data": {
            "text/html": [
              "<div>\n",
              "<style scoped>\n",
              "    .dataframe tbody tr th:only-of-type {\n",
              "        vertical-align: middle;\n",
              "    }\n",
              "\n",
              "    .dataframe tbody tr th {\n",
              "        vertical-align: top;\n",
              "    }\n",
              "\n",
              "    .dataframe thead th {\n",
              "        text-align: right;\n",
              "    }\n",
              "</style>\n",
              "<table border=\"1\" class=\"dataframe\">\n",
              "  <thead>\n",
              "    <tr style=\"text-align: right;\">\n",
              "      <th></th>\n",
              "      <th>Time</th>\n",
              "      <th>V1</th>\n",
              "      <th>V2</th>\n",
              "      <th>V3</th>\n",
              "      <th>V4</th>\n",
              "      <th>V5</th>\n",
              "      <th>V6</th>\n",
              "      <th>V7</th>\n",
              "      <th>V8</th>\n",
              "      <th>V9</th>\n",
              "      <th>V10</th>\n",
              "      <th>V11</th>\n",
              "      <th>V12</th>\n",
              "      <th>V13</th>\n",
              "      <th>V14</th>\n",
              "      <th>V15</th>\n",
              "      <th>V16</th>\n",
              "      <th>V17</th>\n",
              "      <th>V18</th>\n",
              "      <th>V19</th>\n",
              "      <th>V20</th>\n",
              "      <th>V21</th>\n",
              "      <th>V22</th>\n",
              "      <th>V23</th>\n",
              "      <th>V24</th>\n",
              "      <th>V25</th>\n",
              "      <th>V26</th>\n",
              "      <th>V27</th>\n",
              "      <th>V28</th>\n",
              "      <th>Amount</th>\n",
              "    </tr>\n",
              "    <tr>\n",
              "      <th>Class</th>\n",
              "      <th></th>\n",
              "      <th></th>\n",
              "      <th></th>\n",
              "      <th></th>\n",
              "      <th></th>\n",
              "      <th></th>\n",
              "      <th></th>\n",
              "      <th></th>\n",
              "      <th></th>\n",
              "      <th></th>\n",
              "      <th></th>\n",
              "      <th></th>\n",
              "      <th></th>\n",
              "      <th></th>\n",
              "      <th></th>\n",
              "      <th></th>\n",
              "      <th></th>\n",
              "      <th></th>\n",
              "      <th></th>\n",
              "      <th></th>\n",
              "      <th></th>\n",
              "      <th></th>\n",
              "      <th></th>\n",
              "      <th></th>\n",
              "      <th></th>\n",
              "      <th></th>\n",
              "      <th></th>\n",
              "      <th></th>\n",
              "      <th></th>\n",
              "      <th></th>\n",
              "    </tr>\n",
              "  </thead>\n",
              "  <tbody>\n",
              "    <tr>\n",
              "      <th>0.0</th>\n",
              "      <td>13891.131980</td>\n",
              "      <td>-0.203851</td>\n",
              "      <td>0.228560</td>\n",
              "      <td>0.840631</td>\n",
              "      <td>0.263581</td>\n",
              "      <td>-0.117213</td>\n",
              "      <td>0.112151</td>\n",
              "      <td>-0.110725</td>\n",
              "      <td>-0.008454</td>\n",
              "      <td>0.752065</td>\n",
              "      <td>-0.215358</td>\n",
              "      <td>0.712585</td>\n",
              "      <td>-1.186843</td>\n",
              "      <td>0.781491</td>\n",
              "      <td>0.672759</td>\n",
              "      <td>-0.082770</td>\n",
              "      <td>0.008721</td>\n",
              "      <td>0.354174</td>\n",
              "      <td>-0.026752</td>\n",
              "      <td>-0.073561</td>\n",
              "      <td>0.032646</td>\n",
              "      <td>-0.054930</td>\n",
              "      <td>-0.144997</td>\n",
              "      <td>-0.036871</td>\n",
              "      <td>0.015838</td>\n",
              "      <td>0.118904</td>\n",
              "      <td>0.035813</td>\n",
              "      <td>0.010352</td>\n",
              "      <td>0.006670</td>\n",
              "      <td>67.365025</td>\n",
              "    </tr>\n",
              "    <tr>\n",
              "      <th>1.0</th>\n",
              "      <td>16833.074074</td>\n",
              "      <td>-9.315066</td>\n",
              "      <td>6.779465</td>\n",
              "      <td>-13.052870</td>\n",
              "      <td>6.451318</td>\n",
              "      <td>-6.557541</td>\n",
              "      <td>-2.602613</td>\n",
              "      <td>-9.012856</td>\n",
              "      <td>4.730365</td>\n",
              "      <td>-3.087651</td>\n",
              "      <td>-7.499402</td>\n",
              "      <td>6.173253</td>\n",
              "      <td>-9.366936</td>\n",
              "      <td>0.530956</td>\n",
              "      <td>-8.907345</td>\n",
              "      <td>-0.187449</td>\n",
              "      <td>-5.282956</td>\n",
              "      <td>-8.522760</td>\n",
              "      <td>-3.021430</td>\n",
              "      <td>0.395198</td>\n",
              "      <td>0.756424</td>\n",
              "      <td>0.549752</td>\n",
              "      <td>-0.423495</td>\n",
              "      <td>-0.398104</td>\n",
              "      <td>-0.277836</td>\n",
              "      <td>0.355688</td>\n",
              "      <td>0.177616</td>\n",
              "      <td>0.940693</td>\n",
              "      <td>0.090007</td>\n",
              "      <td>98.105926</td>\n",
              "    </tr>\n",
              "  </tbody>\n",
              "</table>\n",
              "</div>"
            ],
            "text/plain": [
              "               Time        V1        V2  ...       V27       V28     Amount\n",
              "Class                                    ...                               \n",
              "0.0    13891.131980 -0.203851  0.228560  ...  0.010352  0.006670  67.365025\n",
              "1.0    16833.074074 -9.315066  6.779465  ...  0.940693  0.090007  98.105926\n",
              "\n",
              "[2 rows x 30 columns]"
            ]
          },
          "metadata": {},
          "execution_count": 13
        }
      ]
    },
    {
      "cell_type": "markdown",
      "metadata": {
        "id": "-D_TfWQ7K_nL"
      },
      "source": [
        "Under-Sampling"
      ]
    },
    {
      "cell_type": "markdown",
      "metadata": {
        "id": "R3bCopDOLIYR"
      },
      "source": [
        "Build a sample dataset containing similar distribution of normal transactions and Fraudulent Transactions"
      ]
    },
    {
      "cell_type": "markdown",
      "metadata": {
        "id": "G5Gqgn1sLvzV"
      },
      "source": [
        "Number of Fraudulent Transactions --> 492"
      ]
    },
    {
      "cell_type": "code",
      "metadata": {
        "id": "8hDVz7SgLzk4"
      },
      "source": [
        "legit_sample = legit.sample(n=492)"
      ],
      "execution_count": 14,
      "outputs": []
    },
    {
      "cell_type": "markdown",
      "metadata": {
        "id": "TE7S3rZKL8K_"
      },
      "source": [
        "Concatenating two DataFrames"
      ]
    },
    {
      "cell_type": "code",
      "metadata": {
        "id": "q_bZJdYGMApC"
      },
      "source": [
        "new_dataset = pd.concat([legit_sample, fraud], axis=0)"
      ],
      "execution_count": 15,
      "outputs": []
    },
    {
      "cell_type": "code",
      "metadata": {
        "colab": {
          "base_uri": "https://localhost:8080/",
          "height": 223
        },
        "id": "h62afY6KMJ3f",
        "outputId": "ff6878ba-ffd3-4b6d-81a2-1da056f9ef64"
      },
      "source": [
        "new_dataset.head()"
      ],
      "execution_count": 16,
      "outputs": [
        {
          "output_type": "execute_result",
          "data": {
            "text/html": [
              "<div>\n",
              "<style scoped>\n",
              "    .dataframe tbody tr th:only-of-type {\n",
              "        vertical-align: middle;\n",
              "    }\n",
              "\n",
              "    .dataframe tbody tr th {\n",
              "        vertical-align: top;\n",
              "    }\n",
              "\n",
              "    .dataframe thead th {\n",
              "        text-align: right;\n",
              "    }\n",
              "</style>\n",
              "<table border=\"1\" class=\"dataframe\">\n",
              "  <thead>\n",
              "    <tr style=\"text-align: right;\">\n",
              "      <th></th>\n",
              "      <th>Time</th>\n",
              "      <th>V1</th>\n",
              "      <th>V2</th>\n",
              "      <th>V3</th>\n",
              "      <th>V4</th>\n",
              "      <th>V5</th>\n",
              "      <th>V6</th>\n",
              "      <th>V7</th>\n",
              "      <th>V8</th>\n",
              "      <th>V9</th>\n",
              "      <th>V10</th>\n",
              "      <th>V11</th>\n",
              "      <th>V12</th>\n",
              "      <th>V13</th>\n",
              "      <th>V14</th>\n",
              "      <th>V15</th>\n",
              "      <th>V16</th>\n",
              "      <th>V17</th>\n",
              "      <th>V18</th>\n",
              "      <th>V19</th>\n",
              "      <th>V20</th>\n",
              "      <th>V21</th>\n",
              "      <th>V22</th>\n",
              "      <th>V23</th>\n",
              "      <th>V24</th>\n",
              "      <th>V25</th>\n",
              "      <th>V26</th>\n",
              "      <th>V27</th>\n",
              "      <th>V28</th>\n",
              "      <th>Amount</th>\n",
              "      <th>Class</th>\n",
              "    </tr>\n",
              "  </thead>\n",
              "  <tbody>\n",
              "    <tr>\n",
              "      <th>7852</th>\n",
              "      <td>10937</td>\n",
              "      <td>-0.713757</td>\n",
              "      <td>0.841765</td>\n",
              "      <td>3.803246</td>\n",
              "      <td>3.184016</td>\n",
              "      <td>-0.480658</td>\n",
              "      <td>1.122038</td>\n",
              "      <td>-0.524244</td>\n",
              "      <td>0.145866</td>\n",
              "      <td>0.667452</td>\n",
              "      <td>0.460838</td>\n",
              "      <td>1.992649</td>\n",
              "      <td>-1.635502</td>\n",
              "      <td>2.546726</td>\n",
              "      <td>0.518063</td>\n",
              "      <td>-1.004754</td>\n",
              "      <td>-0.027448</td>\n",
              "      <td>0.599476</td>\n",
              "      <td>1.138005</td>\n",
              "      <td>0.856204</td>\n",
              "      <td>0.216069</td>\n",
              "      <td>0.101588</td>\n",
              "      <td>0.926649</td>\n",
              "      <td>-0.371497</td>\n",
              "      <td>0.548018</td>\n",
              "      <td>-0.041571</td>\n",
              "      <td>0.348231</td>\n",
              "      <td>-0.149675</td>\n",
              "      <td>-0.133691</td>\n",
              "      <td>6.06</td>\n",
              "      <td>0.0</td>\n",
              "    </tr>\n",
              "    <tr>\n",
              "      <th>16927</th>\n",
              "      <td>28298</td>\n",
              "      <td>-1.822444</td>\n",
              "      <td>-1.449610</td>\n",
              "      <td>3.324665</td>\n",
              "      <td>-0.118206</td>\n",
              "      <td>-0.603856</td>\n",
              "      <td>0.056272</td>\n",
              "      <td>-0.554127</td>\n",
              "      <td>0.337631</td>\n",
              "      <td>1.762433</td>\n",
              "      <td>-0.961857</td>\n",
              "      <td>-1.589338</td>\n",
              "      <td>0.050636</td>\n",
              "      <td>-0.786050</td>\n",
              "      <td>-1.527049</td>\n",
              "      <td>-1.740160</td>\n",
              "      <td>-0.241208</td>\n",
              "      <td>0.150966</td>\n",
              "      <td>-0.041369</td>\n",
              "      <td>-0.019733</td>\n",
              "      <td>0.707716</td>\n",
              "      <td>0.147944</td>\n",
              "      <td>0.541882</td>\n",
              "      <td>0.134246</td>\n",
              "      <td>0.484488</td>\n",
              "      <td>0.418931</td>\n",
              "      <td>1.164749</td>\n",
              "      <td>0.023463</td>\n",
              "      <td>-0.068736</td>\n",
              "      <td>160.95</td>\n",
              "      <td>0.0</td>\n",
              "    </tr>\n",
              "    <tr>\n",
              "      <th>10598</th>\n",
              "      <td>17702</td>\n",
              "      <td>-0.353805</td>\n",
              "      <td>1.259226</td>\n",
              "      <td>1.496475</td>\n",
              "      <td>1.004121</td>\n",
              "      <td>0.317580</td>\n",
              "      <td>-0.700257</td>\n",
              "      <td>0.931087</td>\n",
              "      <td>-0.470787</td>\n",
              "      <td>0.941525</td>\n",
              "      <td>-0.074913</td>\n",
              "      <td>0.552487</td>\n",
              "      <td>-2.651374</td>\n",
              "      <td>1.767642</td>\n",
              "      <td>1.473800</td>\n",
              "      <td>0.307249</td>\n",
              "      <td>-0.461056</td>\n",
              "      <td>0.421436</td>\n",
              "      <td>0.326347</td>\n",
              "      <td>0.204919</td>\n",
              "      <td>0.151052</td>\n",
              "      <td>-0.076908</td>\n",
              "      <td>0.339307</td>\n",
              "      <td>-0.174774</td>\n",
              "      <td>0.336915</td>\n",
              "      <td>-0.247268</td>\n",
              "      <td>-0.396867</td>\n",
              "      <td>0.095574</td>\n",
              "      <td>-0.003580</td>\n",
              "      <td>12.49</td>\n",
              "      <td>0.0</td>\n",
              "    </tr>\n",
              "    <tr>\n",
              "      <th>1531</th>\n",
              "      <td>1201</td>\n",
              "      <td>0.168216</td>\n",
              "      <td>0.529988</td>\n",
              "      <td>1.809228</td>\n",
              "      <td>1.096668</td>\n",
              "      <td>-0.473709</td>\n",
              "      <td>0.682318</td>\n",
              "      <td>-0.602205</td>\n",
              "      <td>-0.637964</td>\n",
              "      <td>0.433349</td>\n",
              "      <td>-0.360930</td>\n",
              "      <td>-1.435206</td>\n",
              "      <td>0.322932</td>\n",
              "      <td>0.588780</td>\n",
              "      <td>-0.393887</td>\n",
              "      <td>0.500474</td>\n",
              "      <td>0.047861</td>\n",
              "      <td>-0.271359</td>\n",
              "      <td>0.267346</td>\n",
              "      <td>0.704760</td>\n",
              "      <td>-0.090736</td>\n",
              "      <td>0.633099</td>\n",
              "      <td>-0.418375</td>\n",
              "      <td>-0.314579</td>\n",
              "      <td>-0.441547</td>\n",
              "      <td>1.122589</td>\n",
              "      <td>-0.159632</td>\n",
              "      <td>0.198873</td>\n",
              "      <td>0.194177</td>\n",
              "      <td>4.99</td>\n",
              "      <td>0.0</td>\n",
              "    </tr>\n",
              "    <tr>\n",
              "      <th>11365</th>\n",
              "      <td>19819</td>\n",
              "      <td>-0.909604</td>\n",
              "      <td>1.269961</td>\n",
              "      <td>-0.301374</td>\n",
              "      <td>1.270933</td>\n",
              "      <td>1.977337</td>\n",
              "      <td>4.547398</td>\n",
              "      <td>0.663643</td>\n",
              "      <td>-0.081174</td>\n",
              "      <td>-0.052999</td>\n",
              "      <td>0.388721</td>\n",
              "      <td>0.590628</td>\n",
              "      <td>-3.065693</td>\n",
              "      <td>1.651668</td>\n",
              "      <td>1.782597</td>\n",
              "      <td>0.095340</td>\n",
              "      <td>0.711453</td>\n",
              "      <td>-0.137813</td>\n",
              "      <td>0.528340</td>\n",
              "      <td>0.007759</td>\n",
              "      <td>-0.134381</td>\n",
              "      <td>0.380717</td>\n",
              "      <td>-1.003914</td>\n",
              "      <td>0.279937</td>\n",
              "      <td>0.895740</td>\n",
              "      <td>-0.353806</td>\n",
              "      <td>-0.203077</td>\n",
              "      <td>0.428638</td>\n",
              "      <td>0.140093</td>\n",
              "      <td>200.85</td>\n",
              "      <td>0.0</td>\n",
              "    </tr>\n",
              "  </tbody>\n",
              "</table>\n",
              "</div>"
            ],
            "text/plain": [
              "        Time        V1        V2        V3  ...       V27       V28  Amount  Class\n",
              "7852   10937 -0.713757  0.841765  3.803246  ... -0.149675 -0.133691    6.06    0.0\n",
              "16927  28298 -1.822444 -1.449610  3.324665  ...  0.023463 -0.068736  160.95    0.0\n",
              "10598  17702 -0.353805  1.259226  1.496475  ...  0.095574 -0.003580   12.49    0.0\n",
              "1531    1201  0.168216  0.529988  1.809228  ...  0.198873  0.194177    4.99    0.0\n",
              "11365  19819 -0.909604  1.269961 -0.301374  ...  0.428638  0.140093  200.85    0.0\n",
              "\n",
              "[5 rows x 31 columns]"
            ]
          },
          "metadata": {},
          "execution_count": 16
        }
      ]
    },
    {
      "cell_type": "code",
      "metadata": {
        "colab": {
          "base_uri": "https://localhost:8080/",
          "height": 223
        },
        "id": "yH4uc9uAMPVL",
        "outputId": "0b5fc4bd-c353-4c20-aa68-00ecccf951e1"
      },
      "source": [
        "new_dataset.tail()"
      ],
      "execution_count": 17,
      "outputs": [
        {
          "output_type": "execute_result",
          "data": {
            "text/html": [
              "<div>\n",
              "<style scoped>\n",
              "    .dataframe tbody tr th:only-of-type {\n",
              "        vertical-align: middle;\n",
              "    }\n",
              "\n",
              "    .dataframe tbody tr th {\n",
              "        vertical-align: top;\n",
              "    }\n",
              "\n",
              "    .dataframe thead th {\n",
              "        text-align: right;\n",
              "    }\n",
              "</style>\n",
              "<table border=\"1\" class=\"dataframe\">\n",
              "  <thead>\n",
              "    <tr style=\"text-align: right;\">\n",
              "      <th></th>\n",
              "      <th>Time</th>\n",
              "      <th>V1</th>\n",
              "      <th>V2</th>\n",
              "      <th>V3</th>\n",
              "      <th>V4</th>\n",
              "      <th>V5</th>\n",
              "      <th>V6</th>\n",
              "      <th>V7</th>\n",
              "      <th>V8</th>\n",
              "      <th>V9</th>\n",
              "      <th>V10</th>\n",
              "      <th>V11</th>\n",
              "      <th>V12</th>\n",
              "      <th>V13</th>\n",
              "      <th>V14</th>\n",
              "      <th>V15</th>\n",
              "      <th>V16</th>\n",
              "      <th>V17</th>\n",
              "      <th>V18</th>\n",
              "      <th>V19</th>\n",
              "      <th>V20</th>\n",
              "      <th>V21</th>\n",
              "      <th>V22</th>\n",
              "      <th>V23</th>\n",
              "      <th>V24</th>\n",
              "      <th>V25</th>\n",
              "      <th>V26</th>\n",
              "      <th>V27</th>\n",
              "      <th>V28</th>\n",
              "      <th>Amount</th>\n",
              "      <th>Class</th>\n",
              "    </tr>\n",
              "  </thead>\n",
              "  <tbody>\n",
              "    <tr>\n",
              "      <th>17317</th>\n",
              "      <td>28625</td>\n",
              "      <td>-27.848181</td>\n",
              "      <td>15.598193</td>\n",
              "      <td>-28.923756</td>\n",
              "      <td>6.418442</td>\n",
              "      <td>-20.346228</td>\n",
              "      <td>-4.828202</td>\n",
              "      <td>-19.210896</td>\n",
              "      <td>18.329406</td>\n",
              "      <td>-3.668735</td>\n",
              "      <td>-8.009159</td>\n",
              "      <td>4.303096</td>\n",
              "      <td>-6.008660</td>\n",
              "      <td>1.138969</td>\n",
              "      <td>-5.580447</td>\n",
              "      <td>-0.110737</td>\n",
              "      <td>-5.491073</td>\n",
              "      <td>-11.588544</td>\n",
              "      <td>-4.715420</td>\n",
              "      <td>0.734573</td>\n",
              "      <td>1.697856</td>\n",
              "      <td>1.802149</td>\n",
              "      <td>-2.062934</td>\n",
              "      <td>-1.269843</td>\n",
              "      <td>0.165409</td>\n",
              "      <td>1.999499</td>\n",
              "      <td>-0.211059</td>\n",
              "      <td>1.324809</td>\n",
              "      <td>0.388090</td>\n",
              "      <td>99.99</td>\n",
              "      <td>1.0</td>\n",
              "    </tr>\n",
              "    <tr>\n",
              "      <th>17366</th>\n",
              "      <td>28658</td>\n",
              "      <td>-28.524268</td>\n",
              "      <td>15.876923</td>\n",
              "      <td>-29.468732</td>\n",
              "      <td>6.447591</td>\n",
              "      <td>-20.786000</td>\n",
              "      <td>-4.865613</td>\n",
              "      <td>-19.501084</td>\n",
              "      <td>18.748872</td>\n",
              "      <td>-3.642990</td>\n",
              "      <td>-7.939642</td>\n",
              "      <td>4.184674</td>\n",
              "      <td>-5.835075</td>\n",
              "      <td>1.215960</td>\n",
              "      <td>-5.330144</td>\n",
              "      <td>-0.118631</td>\n",
              "      <td>-5.367775</td>\n",
              "      <td>-11.431757</td>\n",
              "      <td>-4.696924</td>\n",
              "      <td>0.692688</td>\n",
              "      <td>1.706889</td>\n",
              "      <td>1.805770</td>\n",
              "      <td>-2.119376</td>\n",
              "      <td>-1.317450</td>\n",
              "      <td>0.169846</td>\n",
              "      <td>2.051687</td>\n",
              "      <td>-0.210502</td>\n",
              "      <td>1.301734</td>\n",
              "      <td>0.380246</td>\n",
              "      <td>99.99</td>\n",
              "      <td>1.0</td>\n",
              "    </tr>\n",
              "    <tr>\n",
              "      <th>17407</th>\n",
              "      <td>28692</td>\n",
              "      <td>-29.200329</td>\n",
              "      <td>16.155701</td>\n",
              "      <td>-30.013712</td>\n",
              "      <td>6.476731</td>\n",
              "      <td>-21.225810</td>\n",
              "      <td>-4.902997</td>\n",
              "      <td>-19.791248</td>\n",
              "      <td>19.168327</td>\n",
              "      <td>-3.617242</td>\n",
              "      <td>-7.870122</td>\n",
              "      <td>4.066255</td>\n",
              "      <td>-5.661492</td>\n",
              "      <td>1.292950</td>\n",
              "      <td>-5.079846</td>\n",
              "      <td>-0.126523</td>\n",
              "      <td>-5.244472</td>\n",
              "      <td>-11.274973</td>\n",
              "      <td>-4.678437</td>\n",
              "      <td>0.650807</td>\n",
              "      <td>1.715862</td>\n",
              "      <td>1.809371</td>\n",
              "      <td>-2.175815</td>\n",
              "      <td>-1.365104</td>\n",
              "      <td>0.174286</td>\n",
              "      <td>2.103868</td>\n",
              "      <td>-0.209944</td>\n",
              "      <td>1.278681</td>\n",
              "      <td>0.372393</td>\n",
              "      <td>99.99</td>\n",
              "      <td>1.0</td>\n",
              "    </tr>\n",
              "    <tr>\n",
              "      <th>17453</th>\n",
              "      <td>28726</td>\n",
              "      <td>-29.876366</td>\n",
              "      <td>16.434525</td>\n",
              "      <td>-30.558697</td>\n",
              "      <td>6.505862</td>\n",
              "      <td>-21.665654</td>\n",
              "      <td>-4.940356</td>\n",
              "      <td>-20.081391</td>\n",
              "      <td>19.587773</td>\n",
              "      <td>-3.591491</td>\n",
              "      <td>-7.800598</td>\n",
              "      <td>3.947840</td>\n",
              "      <td>-5.487911</td>\n",
              "      <td>1.369940</td>\n",
              "      <td>-4.829552</td>\n",
              "      <td>-0.134412</td>\n",
              "      <td>-5.121162</td>\n",
              "      <td>-11.118190</td>\n",
              "      <td>-4.659956</td>\n",
              "      <td>0.608930</td>\n",
              "      <td>1.724779</td>\n",
              "      <td>1.812954</td>\n",
              "      <td>-2.232252</td>\n",
              "      <td>-1.412803</td>\n",
              "      <td>0.178731</td>\n",
              "      <td>2.156042</td>\n",
              "      <td>-0.209385</td>\n",
              "      <td>1.255649</td>\n",
              "      <td>0.364530</td>\n",
              "      <td>99.99</td>\n",
              "      <td>1.0</td>\n",
              "    </tr>\n",
              "    <tr>\n",
              "      <th>17480</th>\n",
              "      <td>28755</td>\n",
              "      <td>-30.552380</td>\n",
              "      <td>16.713389</td>\n",
              "      <td>-31.103685</td>\n",
              "      <td>6.534984</td>\n",
              "      <td>-22.105532</td>\n",
              "      <td>-4.977692</td>\n",
              "      <td>-20.371514</td>\n",
              "      <td>20.007208</td>\n",
              "      <td>-3.565738</td>\n",
              "      <td>-7.731071</td>\n",
              "      <td>3.829427</td>\n",
              "      <td>-5.314332</td>\n",
              "      <td>1.446930</td>\n",
              "      <td>-4.579264</td>\n",
              "      <td>-0.142299</td>\n",
              "      <td>-4.997848</td>\n",
              "      <td>-10.961410</td>\n",
              "      <td>-4.641482</td>\n",
              "      <td>0.567056</td>\n",
              "      <td>1.733644</td>\n",
              "      <td>1.816520</td>\n",
              "      <td>-2.288686</td>\n",
              "      <td>-1.460544</td>\n",
              "      <td>0.183179</td>\n",
              "      <td>2.208209</td>\n",
              "      <td>-0.208824</td>\n",
              "      <td>1.232636</td>\n",
              "      <td>0.356660</td>\n",
              "      <td>99.99</td>\n",
              "      <td>1.0</td>\n",
              "    </tr>\n",
              "  </tbody>\n",
              "</table>\n",
              "</div>"
            ],
            "text/plain": [
              "        Time         V1         V2  ...       V28  Amount  Class\n",
              "17317  28625 -27.848181  15.598193  ...  0.388090   99.99    1.0\n",
              "17366  28658 -28.524268  15.876923  ...  0.380246   99.99    1.0\n",
              "17407  28692 -29.200329  16.155701  ...  0.372393   99.99    1.0\n",
              "17453  28726 -29.876366  16.434525  ...  0.364530   99.99    1.0\n",
              "17480  28755 -30.552380  16.713389  ...  0.356660   99.99    1.0\n",
              "\n",
              "[5 rows x 31 columns]"
            ]
          },
          "metadata": {},
          "execution_count": 17
        }
      ]
    },
    {
      "cell_type": "code",
      "metadata": {
        "colab": {
          "base_uri": "https://localhost:8080/"
        },
        "id": "FgUEV2t3MUmJ",
        "outputId": "0a85b5a4-51ad-4130-ccf4-3de48a04fa5d"
      },
      "source": [
        "new_dataset['Class'].value_counts()"
      ],
      "execution_count": 18,
      "outputs": [
        {
          "output_type": "execute_result",
          "data": {
            "text/plain": [
              "0.0    492\n",
              "1.0     81\n",
              "Name: Class, dtype: int64"
            ]
          },
          "metadata": {},
          "execution_count": 18
        }
      ]
    },
    {
      "cell_type": "code",
      "metadata": {
        "colab": {
          "base_uri": "https://localhost:8080/",
          "height": 162
        },
        "id": "hX1AeP9PMbYA",
        "outputId": "c80be0b3-221f-4e15-bb89-98f48e848a05"
      },
      "source": [
        "new_dataset.groupby('Class').mean()"
      ],
      "execution_count": 19,
      "outputs": [
        {
          "output_type": "execute_result",
          "data": {
            "text/html": [
              "<div>\n",
              "<style scoped>\n",
              "    .dataframe tbody tr th:only-of-type {\n",
              "        vertical-align: middle;\n",
              "    }\n",
              "\n",
              "    .dataframe tbody tr th {\n",
              "        vertical-align: top;\n",
              "    }\n",
              "\n",
              "    .dataframe thead th {\n",
              "        text-align: right;\n",
              "    }\n",
              "</style>\n",
              "<table border=\"1\" class=\"dataframe\">\n",
              "  <thead>\n",
              "    <tr style=\"text-align: right;\">\n",
              "      <th></th>\n",
              "      <th>Time</th>\n",
              "      <th>V1</th>\n",
              "      <th>V2</th>\n",
              "      <th>V3</th>\n",
              "      <th>V4</th>\n",
              "      <th>V5</th>\n",
              "      <th>V6</th>\n",
              "      <th>V7</th>\n",
              "      <th>V8</th>\n",
              "      <th>V9</th>\n",
              "      <th>V10</th>\n",
              "      <th>V11</th>\n",
              "      <th>V12</th>\n",
              "      <th>V13</th>\n",
              "      <th>V14</th>\n",
              "      <th>V15</th>\n",
              "      <th>V16</th>\n",
              "      <th>V17</th>\n",
              "      <th>V18</th>\n",
              "      <th>V19</th>\n",
              "      <th>V20</th>\n",
              "      <th>V21</th>\n",
              "      <th>V22</th>\n",
              "      <th>V23</th>\n",
              "      <th>V24</th>\n",
              "      <th>V25</th>\n",
              "      <th>V26</th>\n",
              "      <th>V27</th>\n",
              "      <th>V28</th>\n",
              "      <th>Amount</th>\n",
              "    </tr>\n",
              "    <tr>\n",
              "      <th>Class</th>\n",
              "      <th></th>\n",
              "      <th></th>\n",
              "      <th></th>\n",
              "      <th></th>\n",
              "      <th></th>\n",
              "      <th></th>\n",
              "      <th></th>\n",
              "      <th></th>\n",
              "      <th></th>\n",
              "      <th></th>\n",
              "      <th></th>\n",
              "      <th></th>\n",
              "      <th></th>\n",
              "      <th></th>\n",
              "      <th></th>\n",
              "      <th></th>\n",
              "      <th></th>\n",
              "      <th></th>\n",
              "      <th></th>\n",
              "      <th></th>\n",
              "      <th></th>\n",
              "      <th></th>\n",
              "      <th></th>\n",
              "      <th></th>\n",
              "      <th></th>\n",
              "      <th></th>\n",
              "      <th></th>\n",
              "      <th></th>\n",
              "      <th></th>\n",
              "      <th></th>\n",
              "    </tr>\n",
              "  </thead>\n",
              "  <tbody>\n",
              "    <tr>\n",
              "      <th>0.0</th>\n",
              "      <td>14140.463415</td>\n",
              "      <td>-0.263108</td>\n",
              "      <td>0.358945</td>\n",
              "      <td>0.880199</td>\n",
              "      <td>0.368607</td>\n",
              "      <td>-0.133271</td>\n",
              "      <td>0.085023</td>\n",
              "      <td>-0.120291</td>\n",
              "      <td>-0.010767</td>\n",
              "      <td>0.880718</td>\n",
              "      <td>-0.216797</td>\n",
              "      <td>0.702880</td>\n",
              "      <td>-1.411487</td>\n",
              "      <td>0.780737</td>\n",
              "      <td>0.606723</td>\n",
              "      <td>-0.188841</td>\n",
              "      <td>-0.039385</td>\n",
              "      <td>0.397044</td>\n",
              "      <td>-0.005217</td>\n",
              "      <td>-0.093574</td>\n",
              "      <td>0.022795</td>\n",
              "      <td>-0.083892</td>\n",
              "      <td>-0.165503</td>\n",
              "      <td>-0.065297</td>\n",
              "      <td>-0.028427</td>\n",
              "      <td>0.140874</td>\n",
              "      <td>0.034805</td>\n",
              "      <td>0.003848</td>\n",
              "      <td>0.005553</td>\n",
              "      <td>57.087033</td>\n",
              "    </tr>\n",
              "    <tr>\n",
              "      <th>1.0</th>\n",
              "      <td>16833.074074</td>\n",
              "      <td>-9.315066</td>\n",
              "      <td>6.779465</td>\n",
              "      <td>-13.052870</td>\n",
              "      <td>6.451318</td>\n",
              "      <td>-6.557541</td>\n",
              "      <td>-2.602613</td>\n",
              "      <td>-9.012856</td>\n",
              "      <td>4.730365</td>\n",
              "      <td>-3.087651</td>\n",
              "      <td>-7.499402</td>\n",
              "      <td>6.173253</td>\n",
              "      <td>-9.366936</td>\n",
              "      <td>0.530956</td>\n",
              "      <td>-8.907345</td>\n",
              "      <td>-0.187449</td>\n",
              "      <td>-5.282956</td>\n",
              "      <td>-8.522760</td>\n",
              "      <td>-3.021430</td>\n",
              "      <td>0.395198</td>\n",
              "      <td>0.756424</td>\n",
              "      <td>0.549752</td>\n",
              "      <td>-0.423495</td>\n",
              "      <td>-0.398104</td>\n",
              "      <td>-0.277836</td>\n",
              "      <td>0.355688</td>\n",
              "      <td>0.177616</td>\n",
              "      <td>0.940693</td>\n",
              "      <td>0.090007</td>\n",
              "      <td>98.105926</td>\n",
              "    </tr>\n",
              "  </tbody>\n",
              "</table>\n",
              "</div>"
            ],
            "text/plain": [
              "               Time        V1        V2  ...       V27       V28     Amount\n",
              "Class                                    ...                               \n",
              "0.0    14140.463415 -0.263108  0.358945  ...  0.003848  0.005553  57.087033\n",
              "1.0    16833.074074 -9.315066  6.779465  ...  0.940693  0.090007  98.105926\n",
              "\n",
              "[2 rows x 30 columns]"
            ]
          },
          "metadata": {},
          "execution_count": 19
        }
      ]
    },
    {
      "cell_type": "markdown",
      "metadata": {
        "id": "qrdnI1nTNJzk"
      },
      "source": [
        "Splitting the data into Features & Targets"
      ]
    },
    {
      "cell_type": "code",
      "metadata": {
        "id": "QOqNVjLUNPi9"
      },
      "source": [
        "X = new_dataset.drop(columns='Class', axis=1)\n",
        "Y = new_dataset['Class']"
      ],
      "execution_count": 20,
      "outputs": []
    },
    {
      "cell_type": "code",
      "metadata": {
        "colab": {
          "base_uri": "https://localhost:8080/"
        },
        "id": "VKs4RZSjNVmY",
        "outputId": "f3322b4b-c8b9-43d7-f1ca-3d0f7f6832e4"
      },
      "source": [
        "print(X)"
      ],
      "execution_count": 21,
      "outputs": [
        {
          "output_type": "stream",
          "name": "stdout",
          "text": [
            "        Time         V1         V2  ...       V27       V28  Amount\n",
            "7852   10937  -0.713757   0.841765  ... -0.149675 -0.133691    6.06\n",
            "16927  28298  -1.822444  -1.449610  ...  0.023463 -0.068736  160.95\n",
            "10598  17702  -0.353805   1.259226  ...  0.095574 -0.003580   12.49\n",
            "1531    1201   0.168216   0.529988  ...  0.198873  0.194177    4.99\n",
            "11365  19819  -0.909604   1.269961  ...  0.428638  0.140093  200.85\n",
            "...      ...        ...        ...  ...       ...       ...     ...\n",
            "17317  28625 -27.848181  15.598193  ...  1.324809  0.388090   99.99\n",
            "17366  28658 -28.524268  15.876923  ...  1.301734  0.380246   99.99\n",
            "17407  28692 -29.200329  16.155701  ...  1.278681  0.372393   99.99\n",
            "17453  28726 -29.876366  16.434525  ...  1.255649  0.364530   99.99\n",
            "17480  28755 -30.552380  16.713389  ...  1.232636  0.356660   99.99\n",
            "\n",
            "[573 rows x 30 columns]\n"
          ]
        }
      ]
    },
    {
      "cell_type": "code",
      "metadata": {
        "colab": {
          "base_uri": "https://localhost:8080/"
        },
        "id": "_pBvr_8_Nc6Y",
        "outputId": "b58191c4-85dc-4bf1-96d0-1e13f77d6e64"
      },
      "source": [
        "print(Y)"
      ],
      "execution_count": 22,
      "outputs": [
        {
          "output_type": "stream",
          "name": "stdout",
          "text": [
            "7852     0.0\n",
            "16927    0.0\n",
            "10598    0.0\n",
            "1531     0.0\n",
            "11365    0.0\n",
            "        ... \n",
            "17317    1.0\n",
            "17366    1.0\n",
            "17407    1.0\n",
            "17453    1.0\n",
            "17480    1.0\n",
            "Name: Class, Length: 573, dtype: float64\n"
          ]
        }
      ]
    },
    {
      "cell_type": "markdown",
      "metadata": {
        "id": "Yf9vkMQeNqBH"
      },
      "source": [
        "Split the data into Training data & Testing Data"
      ]
    },
    {
      "cell_type": "code",
      "metadata": {
        "id": "C2mI9KU9Nx_5"
      },
      "source": [
        "X_train, X_test, Y_train, Y_test = train_test_split(X, Y, test_size=0.2, stratify=Y, random_state=2)"
      ],
      "execution_count": 23,
      "outputs": []
    },
    {
      "cell_type": "code",
      "metadata": {
        "colab": {
          "base_uri": "https://localhost:8080/"
        },
        "id": "2efv2AB8N6V1",
        "outputId": "1802f53b-e764-4196-b2fb-9f5f20a2c6c3"
      },
      "source": [
        "print(X.shape, X_train.shape, X_test.shape)"
      ],
      "execution_count": 24,
      "outputs": [
        {
          "output_type": "stream",
          "name": "stdout",
          "text": [
            "(573, 30) (458, 30) (115, 30)\n"
          ]
        }
      ]
    },
    {
      "cell_type": "markdown",
      "metadata": {
        "id": "wG5YMdT4OAgF"
      },
      "source": [
        "Model Training"
      ]
    },
    {
      "cell_type": "markdown",
      "metadata": {
        "id": "koHx7DAtOFJM"
      },
      "source": [
        "Logistic Regression"
      ]
    },
    {
      "cell_type": "code",
      "metadata": {
        "id": "DjNVKFl1OJLB"
      },
      "source": [
        "model = LogisticRegression()"
      ],
      "execution_count": 28,
      "outputs": []
    },
    {
      "cell_type": "code",
      "metadata": {
        "id": "caOp6SjHOsQ4"
      },
      "source": [
        "# training the Logistic Regression Model with Training Data\n",
        "model.fit(X_train, Y_train)"
      ],
      "execution_count": null,
      "outputs": []
    },
    {
      "cell_type": "markdown",
      "metadata": {
        "id": "iscMh8COPHlB"
      },
      "source": [
        "Model Evaluation"
      ]
    },
    {
      "cell_type": "markdown",
      "metadata": {
        "id": "ZDuw2jbcPPyt"
      },
      "source": [
        "Accuracy Score"
      ]
    },
    {
      "cell_type": "code",
      "metadata": {
        "id": "QL3xCgzXPV9g"
      },
      "source": [
        "# accuracy on training data\n",
        "X_train_prediction = model.predict(X_train)\n",
        "training_data_accuracy = accuracy_score(X_train_prediction, Y_train)"
      ],
      "execution_count": 31,
      "outputs": []
    },
    {
      "cell_type": "code",
      "metadata": {
        "colab": {
          "base_uri": "https://localhost:8080/"
        },
        "id": "_MA2zHo9Pd5A",
        "outputId": "3c9757f2-f37d-4e7c-9a91-57fecff2c5b4"
      },
      "source": [
        "print('Accuracy on Training data : ', training_data_accuracy)"
      ],
      "execution_count": 32,
      "outputs": [
        {
          "output_type": "stream",
          "name": "stdout",
          "text": [
            "Accuracy on Training data :  0.9781659388646288\n"
          ]
        }
      ]
    },
    {
      "cell_type": "code",
      "metadata": {
        "id": "s4j98JK6PytL"
      },
      "source": [
        "# accuracy on test data\n",
        "X_test_prediction = model.predict(X_test)\n",
        "test_data_accuracy = accuracy_score(X_test_prediction, Y_test)"
      ],
      "execution_count": 33,
      "outputs": []
    },
    {
      "cell_type": "code",
      "metadata": {
        "colab": {
          "base_uri": "https://localhost:8080/"
        },
        "id": "rjqNigiSP8Ny",
        "outputId": "4407fbab-0be2-456b-c534-e8f1c3306b7e"
      },
      "source": [
        "print('Accuracy score on Test Data : ', test_data_accuracy)"
      ],
      "execution_count": 34,
      "outputs": [
        {
          "output_type": "stream",
          "name": "stdout",
          "text": [
            "Accuracy score on Test Data :  0.9739130434782609\n"
          ]
        }
      ]
    }
  ]
}